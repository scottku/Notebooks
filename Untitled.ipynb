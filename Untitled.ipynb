{
 "cells": [
  {
   "cell_type": "code",
   "execution_count": 13,
   "id": "70fcd98c",
   "metadata": {},
   "outputs": [],
   "source": [
    "y = (1, 2, 3, 4, 5, 6)\n",
    "\n",
    "def get_last_item(x):\n",
    "    if isinstance(x, (tuple, list)):\n",
    "        return x[-1]\n",
    "    else:\n",
    "        return None\n",
    "\n",
    "if __name__ == \"__main__\":\n",
    "    get_last_item(y)\n"
   ]
  },
  {
   "cell_type": "code",
   "execution_count": null,
   "id": "902bf5d7",
   "metadata": {},
   "outputs": [],
   "source": []
  }
 ],
 "metadata": {
  "kernelspec": {
   "display_name": "Python 3",
   "language": "python",
   "name": "python3"
  },
  "language_info": {
   "codemirror_mode": {
    "name": "ipython",
    "version": 3
   },
   "file_extension": ".py",
   "mimetype": "text/x-python",
   "name": "python",
   "nbconvert_exporter": "python",
   "pygments_lexer": "ipython3",
   "version": "3.9.5"
  }
 },
 "nbformat": 4,
 "nbformat_minor": 5
}
